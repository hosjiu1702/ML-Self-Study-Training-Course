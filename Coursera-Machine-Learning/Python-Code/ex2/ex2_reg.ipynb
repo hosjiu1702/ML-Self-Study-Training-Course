{
 "cells": [
  {
   "cell_type": "markdown",
   "metadata": {},
   "source": [
    "# Regularized logisitic regression"
   ]
  },
  {
   "cell_type": "markdown",
   "metadata": {},
   "source": [
    "**Import third-party libraries and modules**"
   ]
  },
  {
   "cell_type": "code",
   "execution_count": 1,
   "metadata": {},
   "outputs": [],
   "source": [
    "import numpy as np\n",
    "import matplotlib.pyplot as plt\n",
    "import scipy.optimize as opt\n",
    "\n",
    "from plotData import plotData\n",
    "from mapFeature import mapFeature\n",
    "from costFunctionReg import costFunctionReg\n",
    "from gradient import gradient\n",
    "from plotDecisionBoundary import plotDecisionBoundary\n",
    "from predict import predict"
   ]
  },
  {
   "cell_type": "markdown",
   "metadata": {},
   "source": [
    "In this part of the exericise, we will implement regularized logistic regression to predict whether microchips from a fabrication plant passes quality assurance (QA). During QA, each microchip goes through various tests to ensure it is functioning correctly.\n",
    "\n",
    "Suppose you are the product manager of the factory and you have the test results for some microchips on two different tests. From these two tests, you would like to determine whether the microchips should be accepted or rejected. To help you make the decision, you have a dataset of test results on past microchips, from which you can build a logistic regression model."
   ]
  },
  {
   "cell_type": "markdown",
   "metadata": {},
   "source": [
    "## 1. Visualizing the data\n",
    "### Load data\n",
    "First of all, we have to load data set from **ex2data2.txt** file into two variables:\n",
    "\n",
    "* X: training data\n",
    "* y: labels"
   ]
  },
  {
   "cell_type": "code",
   "execution_count": 2,
   "metadata": {},
   "outputs": [],
   "source": [
    "data = np.loadtxt('ex2data2.txt', delimiter=',')\n",
    "X = data[:, :-1]\n",
    "y = data[:, -1]\n",
    "\n",
    "m = len(y)\n",
    "\n",
    "y = y.reshape((m, 1))"
   ]
  },
  {
   "cell_type": "markdown",
   "metadata": {},
   "source": [
    "**plotData** function is used to generate a figure like Figure 1, where the axes the two test scores, and the positive ($y = 1$, accepted) and negative ($y = 0$, rejected) examples are shown with different makers."
   ]
  },
  {
   "cell_type": "code",
   "execution_count": 3,
   "metadata": {},
   "outputs": [
    {
     "data": {
      "text/plain": [
       "Text(0.5, 1.0, 'Figure1: Plot of training data')"
      ]
     },
     "execution_count": 3,
     "metadata": {},
     "output_type": "execute_result"
    },
    {
     "data": {
      "image/png": "[encoded data removed]",
      "text/plain": [
       "<Figure size 432x288 with 1 Axes>"
      ]
     },
     "metadata": {
      "needs_background": "light"
     },
     "output_type": "display_data"
    }
   ],
   "source": [
    "plotData(X, y)\n",
    "    \n",
    "# Put some lables and legend\n",
    "plt.xlabel('Microchip Test 1')\n",
    "plt.ylabel('Microchip Test 2')\n",
    "plt.legend(['y = 0', 'y = 1'])\n",
    "plt.title('Figure1: Plot of training data')"
   ]
  },
  {
   "cell_type": "markdown",
   "metadata": {},
   "source": [
    "Figure 1 shows that our dataset cannot be separated into positive and negative examples by straight-line through the plot. Therefore, a straight-forward application of logistic regression will not perform well on this dataset since logistic regression will only be able to find linear decision boundary."
   ]
  },
  {
   "cell_type": "markdown",
   "metadata": {},
   "source": [
    "## 2. Feature mapping\n",
    "One way to fit the data better is to create more feature from each data point. We will map the features into all polynomial terms of $x_{1} and x_{2}$ up to the sixth power.\n",
    "\n",
    "$$\n",
    "mapFeature(x) = \n",
    "\\begin{bmatrix}\n",
    "1 \\\\\n",
    "x_{1} \\\\\n",
    "x_{2} \\\\\n",
    "x_{1}^{2} \\\\\n",
    "x_{1}x_{2} \\\\\n",
    "x_{2}^{2} \\\\\n",
    "x_{1}^{3} \\\\\n",
    "\\vdots \\\\\n",
    "x_{1}x_{2}^{5} \\\\\n",
    "x_{2}^{6}\n",
    "\\end{bmatrix}\n",
    "$$\n",
    "\n",
    "As result of this mapping, our vector of two features (the scores on two QA tests) has been transformed into a 28-dimensional vector. A logistic regression classifier trained on this higher-dimension feature vector will have a more complex decision boundary and will appear nonlinear when drawn in our 2-dimensional plot.\n",
    "\n",
    "while the feature mapping allows us to build a more expressive classifier, it also more susceptible to overfitting. In the next parts, we will implement regularized logistic regression to fit the data and also see for ourselve how regularization can help combat the overfitting problem."
   ]
  },
  {
   "cell_type": "code",
   "execution_count": 4,
   "metadata": {},
   "outputs": [
    {
     "name": "stdout",
     "output_type": "stream",
     "text": [
      "[[ 1.00000000e+00  5.12670000e-02  6.99560000e-01 ...  6.29470940e-04\n",
      "   8.58939846e-03  1.17205992e-01]\n",
      " [ 1.00000000e+00 -9.27420000e-02  6.84940000e-01 ...  1.89305413e-03\n",
      "  -1.39810280e-02  1.03255971e-01]\n",
      " [ 1.00000000e+00 -2.13710000e-01  6.92250000e-01 ...  1.04882142e-02\n",
      "  -3.39734512e-02  1.10046893e-01]\n",
      " ...\n",
      " [ 1.00000000e+00 -4.84450000e-01  9.99270000e-01 ...  2.34007252e-01\n",
      "  -4.82684337e-01  9.95627986e-01]\n",
      " [ 1.00000000e+00 -6.33640000e-03  9.99270000e-01 ...  4.00328554e-05\n",
      "  -6.31330588e-03  9.95627986e-01]\n",
      " [ 1.00000000e+00  6.32650000e-01 -3.06120000e-02 ...  3.51474517e-07\n",
      "  -1.70067777e-08  8.22905998e-10]]\n"
     ]
    }
   ],
   "source": [
    "## ================================== Part 1: Regularized Logistic Regression ===========================\n",
    "# In this part, you are given a dataset with data points that are not\n",
    "# linearly separable. However, you would still like to use logistic\n",
    "# regression to classify the data points.\n",
    "#\n",
    "# To do so, you introduce more features to use -- in particular, you add\n",
    "# polynomial features to our data matrix (similar to polynomial regession).\n",
    "\n",
    "# Add polynomial Features\n",
    "\n",
    "\n",
    "# Note that mapFeature also adds a columnn of ones for us, so the intercept\n",
    "# term is handled\n",
    "X_0 = np.reshape(X[:, 0], (m, 1))\n",
    "X_1 = np.reshape(X[:, 1], (m, 1))\n",
    "\n",
    "X = mapFeature(X_0, X_1)\n",
    "print(X)"
   ]
  },
  {
   "cell_type": "markdown",
   "metadata": {},
   "source": [
    "### 3. Cost function and gradient\n",
    "Now, we will implement code to compute the cost function and gradient for regularized logistic regression. The code in **costFunctionReg** function will return the cost and gradient.\n",
    "\n",
    "Recall that the regularized cost function in logistic regression is\n",
    "\n",
    "$$\n",
    "J(\\theta) = \\frac{1}{m}\\sum_{i=1}^{m}[-y^{(i)}\\log(h_{\\theta}(x^{(i)})) - (1-y^{(i)})\\log(1-h_{\\theta}(x^{(i)}))] + \\frac{\\lambda}{2m}\\sum_{j=1}^{n}\\theta_{j}^{2}\n",
    "$$\n",
    "\n",
    "Note that, we should not regularize the parameter $\\theta_{0}$.\n",
    "\n",
    "And the gradient of the cost function is a vector there the $j^{th}$ element is defined as follows:\n",
    "\n",
    "$$\n",
    "\\frac{\\partial J(\\theta)}{\\partial \\theta_{0}} = \\frac{1}{m}\\sum_{i=1}^{m}\\big(h_{\\theta}(x^{(i)}) - y^{(i)}\\big)x_{j}^{(i)}; \\big(j = 0\\big)\n",
    "$$\n",
    "\n",
    "$$\n",
    "\\frac{\\partial J(\\theta)}{\\partial \\theta_{j}} = \\Big(\\frac{1}{m}\\sum_{i=1}^{m}\\big(h_{\\theta}(x^{(i)}) - y^{(i)}\\big)x_{j}^{(i)}\\Big) + \\frac{\\lambda}{m}\\theta_{j}; \\big(j\\ge1\\big)\n",
    "$$\n",
    "\n",
    "Once we are done, the notebook will call our **costFunctionReg** function using the inital value of $\\theta$ (initialized to all zeros). We should that the cost is about 0.693 (with $\\lambda = 1$)"
   ]
  },
  {
   "cell_type": "code",
   "execution_count": 5,
   "metadata": {},
   "outputs": [
    {
     "name": "stdout",
     "output_type": "stream",
     "text": [
      "Cost at initial theta (zeros): 0.693147\n",
      "\n",
      "Exptected cost (approx): 0.693\n",
      "\n",
      "Gradient at initial theta (zeros) - first five values only:\n",
      "\n",
      "[[8.47457627e-03]\n",
      " [1.87880932e-02]\n",
      " [7.77711864e-05]\n",
      " [5.03446395e-02]\n",
      " [1.15013308e-02]]\n",
      "Expected gradients (approx) - first five values only:\n",
      "\n",
      "0.0085\n",
      " 0.0188\n",
      " 0.0001\n",
      " 0.0503\n",
      " 0.0115\n",
      "\n"
     ]
    }
   ],
   "source": [
    "# Init fitting params\n",
    "init_theta = np.zeros((X.shape[1], 1))\n",
    "\n",
    "# Set regularization parameter lambda to 1\n",
    "lam_bda = 1\n",
    "\n",
    "# Compute and display initial cost and gradient for regularized logistic regression\n",
    "cost = costFunctionReg(init_theta, X, y, lam_bda)\n",
    "grad = gradient(init_theta, X, y, lam_bda)\n",
    "\n",
    "print('Cost at initial theta (zeros): %f\\n' % (cost))\n",
    "print('Exptected cost (approx): 0.693\\n')\n",
    "print('Gradient at initial theta (zeros) - first five values only:\\n')\n",
    "print(grad[0:5])\n",
    "print('Expected gradients (approx) - first five values only:\\n')\n",
    "print('0.0085\\n 0.0188\\n 0.0001\\n 0.0503\\n 0.0115\\n')"
   ]
  },
  {
   "cell_type": "markdown",
   "metadata": {},
   "source": [
    "With $\\lambda = 10$ the cost is about 3.16"
   ]
  },
  {
   "cell_type": "code",
   "execution_count": 6,
   "metadata": {},
   "outputs": [
    {
     "name": "stdout",
     "output_type": "stream",
     "text": [
      "Cost at test theta (with lambda = 10): 3.164509\n",
      "\n",
      "Exptected cost (approx): 3.16\n",
      "\n",
      "Gradient at initial theta (zeros) - first five values only:\n",
      "\n",
      "[[0.34604507]\n",
      " [0.16135192]\n",
      " [0.19479576]\n",
      " [0.22686278]\n",
      " [0.09218568]]\n",
      "Expected gradients (approx) - first five values only:\n",
      "\n",
      "0.3460\n",
      " 0.1614\n",
      " 0.1948\n",
      " 0.2269\n",
      " 0.0922\n",
      "\n"
     ]
    }
   ],
   "source": [
    "# Compute and display cost and gradient\n",
    "# with all-ones theta and lambda = 10\n",
    "test_theta = np.ones((X.shape[1], 1))\n",
    "lambda_ = 10\n",
    "cost = costFunctionReg(test_theta, X, y, lambda_)\n",
    "grad = gradient(test_theta, X, y, lambda_)\n",
    "\n",
    "print('Cost at test theta (with lambda = 10): %f\\n' % (cost))\n",
    "print('Exptected cost (approx): 3.16\\n')\n",
    "print('Gradient at initial theta (zeros) - first five values only:\\n')\n",
    "print(grad[0:5])\n",
    "print('Expected gradients (approx) - first five values only:\\n')\n",
    "print('0.3460\\n 0.1614\\n 0.1948\\n 0.2269\\n 0.0922\\n')"
   ]
  },
  {
   "cell_type": "markdown",
   "metadata": {},
   "source": [
    "### 4. Learning parameters using ***minimize*** function\n",
    "We still use **minimize** function to learn the optimal parameters $\\theta$."
   ]
  },
  {
   "cell_type": "code",
   "execution_count": 7,
   "metadata": {},
   "outputs": [
    {
     "name": "stdout",
     "output_type": "stream",
     "text": [
      "Optimal theta: \n",
      "\n",
      "[[ 1.25063024]\n",
      " [ 0.64889013]\n",
      " [ 1.21515839]\n",
      " [-1.95868195]\n",
      " [-0.92379918]\n",
      " [-1.41750791]\n",
      " [-0.01317342]\n",
      " [-0.40366236]\n",
      " [-0.29140672]\n",
      " [-0.20798786]\n",
      " [-1.46088563]\n",
      " [-0.07518902]\n",
      " [-0.61003648]\n",
      " [-0.25615103]\n",
      " [-1.15711495]\n",
      " [-0.2205003 ]\n",
      " [-0.17616631]\n",
      " [-0.04359757]\n",
      " [-0.28748842]\n",
      " [-0.37090162]\n",
      " [-0.54151695]\n",
      " [-1.03518502]\n",
      " [ 0.05939314]\n",
      " [-0.24457624]\n",
      " [ 0.0277008 ]\n",
      " [-0.25239175]\n",
      " [-0.19075156]\n",
      " [-0.92616029]]\n"
     ]
    }
   ],
   "source": [
    "## ================================ Part 2: Regularization and Accuracies ================================\n",
    "# Optional Exericse\n",
    "# In this part, you will get to try different values of lambda and\n",
    "# see how regularization affects the decsion coundart\n",
    "#\n",
    "# Try the following values of lambda (0, 1, 10, 100).\n",
    "#\n",
    "# How does the decision boundary change when you vary lambda ? How does\n",
    "# the training set accuracy vary ?\n",
    "\n",
    "# Initialize fitting parameters\n",
    "init_theta = np.zeros((X.shape[1], 1))\n",
    "\n",
    "# Set regularization parameter lambda to 1\n",
    "lam_bda = 1\n",
    "\n",
    "# Set options\n",
    "options = {'maxiter': 400}\n",
    "\n",
    "# Optimize\n",
    "result = opt.minimize(costFunctionReg, init_theta, (X, y, lam_bda), method='TNC', jac=False, options=options)\n",
    "\n",
    "# Get theta\n",
    "theta = result.x.reshape((len(result.x), 1))\n",
    "print('Optimal theta: \\n\\n{}'.format(theta))"
   ]
  },
  {
   "cell_type": "markdown",
   "metadata": {},
   "source": [
    "## 5. Plotting the decision boundary\n",
    "We will visualize the model learned by this classifier. In the **plotDecisionBoundary** function, we plot the non-linear decision boundary by computing the classifier's predictions on evenly spaced  grid and then drew a contour plot of where the predictions change form $y = 0$ to $y = 1$\n",
    "\n",
    "After learning the parameters $\\theta$, the next step we will plot a decision boundary similar to Figure 2."
   ]
  },
  {
   "cell_type": "code",
   "execution_count": 8,
   "metadata": {},
   "outputs": [
    {
     "data": {
      "text/plain": [
       "Text(0.5, 1.0, 'Figure 2: Training data with decision boundary ($\\\\lambda = 1$)')"
      ]
     },
     "execution_count": 8,
     "metadata": {},
     "output_type": "execute_result"
    },
    {
     "data": {
      "image/png": "[encoded data removed]",
      "text/plain": [
       "<Figure size 432x288 with 1 Axes>"
      ]
     },
     "metadata": {
      "needs_background": "light"
     },
     "output_type": "display_data"
    }
   ],
   "source": [
    "# Plot boundary\n",
    "plotDecisionBoundary(theta, X, y)\n",
    "\n",
    "# Legend, specific for the exercise\n",
    "plt.legend(['y = 0', 'y = 1', 'Decision Boundary'])\n",
    "plt.title('Figure 2: Training data with decision boundary ($\\lambda = 1$)')"
   ]
  },
  {
   "cell_type": "markdown",
   "metadata": {},
   "source": [
    "Accuracy on training set ($\\lambda = 1$)"
   ]
  },
  {
   "cell_type": "code",
   "execution_count": 9,
   "metadata": {},
   "outputs": [
    {
     "name": "stdout",
     "output_type": "stream",
     "text": [
      "Train accuracy: 83.050847\n",
      "\n",
      "Expected accuracy (with lambda = 1): 83.1 (approx)\n",
      "\n"
     ]
    }
   ],
   "source": [
    "# Compute accuracy on our training set\n",
    "p = predict(theta, X)\n",
    "\n",
    "print('Train accuracy: %f\\n' % (np.mean(np.double(p == y)) * 100))\n",
    "print('Expected accuracy (with lambda = 1): 83.1 (approx)\\n')"
   ]
  },
  {
   "cell_type": "markdown",
   "metadata": {},
   "source": [
    "We will test with a another lambda values to see its effect to our model:\n",
    "\n",
    "* $\\lambda = 100$"
   ]
  },
  {
   "cell_type": "code",
   "execution_count": 10,
   "metadata": {},
   "outputs": [
    {
     "data": {
      "text/plain": [
       "Text(0.5, 1.0, 'Figure 3: Too much regularization (Underfitting) ($\\\\lambda = 100$)')"
      ]
     },
     "execution_count": 10,
     "metadata": {},
     "output_type": "execute_result"
    },
    {
     "data": {
      "image/png": "[encoded data removed]",
      "text/plain": [
       "<Figure size 432x288 with 1 Axes>"
      ]
     },
     "metadata": {
      "needs_background": "light"
     },
     "output_type": "display_data"
    }
   ],
   "source": [
    "init_theta = np.zeros((X.shape[1], 1))\n",
    "lam_bda = 100\n",
    "options = {'maxiter': 400}\n",
    "result = opt.minimize(costFunctionReg, init_theta, (X, y, lam_bda), method='TNC', jac=False, options=options)\n",
    "theta = result.x.reshape((len(result.x), 1))\n",
    "plotDecisionBoundary(theta, X, y)\n",
    "plt.legend(['y = 0', 'y = 1', 'Decision Boundary'])\n",
    "plt.title('Figure 3: Too much regularization (Underfitting) ($\\lambda = 100$)')"
   ]
  },
  {
   "cell_type": "markdown",
   "metadata": {},
   "source": [
    "Accuracy on training set ($\\lambda = 100$)"
   ]
  },
  {
   "cell_type": "code",
   "execution_count": 11,
   "metadata": {},
   "outputs": [
    {
     "name": "stdout",
     "output_type": "stream",
     "text": [
      "Train accuracy: 63.559322\n",
      "\n"
     ]
    }
   ],
   "source": [
    "# Compute accuracy on our training set\n",
    "p = predict(theta, X)\n",
    "\n",
    "print('Train accuracy: %f\\n' % (np.mean(np.double(p == y)) * 100))"
   ]
  }
 ],
 "metadata": {
  "kernelspec": {
   "display_name": "Python 3",
   "language": "python",
   "name": "python3"
  },
  "language_info": {
   "codemirror_mode": {
    "name": "ipython",
    "version": 3
   },
   "file_extension": ".py",
   "mimetype": "text/x-python",
   "name": "python",
   "nbconvert_exporter": "python",
   "pygments_lexer": "ipython3",
   "version": "3.7.1"
  }
 },
 "nbformat": 4,
 "nbformat_minor": 2
}
