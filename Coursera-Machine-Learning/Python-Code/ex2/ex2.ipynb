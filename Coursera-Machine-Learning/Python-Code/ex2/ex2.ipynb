{
 "cells": [
  {
   "cell_type": "markdown",
   "metadata": {},
   "source": [
    "# Logistic Regression\n",
    "In this part of the exercise, we will build a logistic regression model to predict whether a students gets admitted into a university.\n",
    "\n",
    "Suppose that you are the administrator of a university departerment and you want to determine each applicant's chance of admission based on their results on two exams. You have historical data from previous applicants that you can use as a training set for logistic regression. For each training example, you have the applicant's scores on two exams and the admissions decision.\n",
    "\n",
    "Your task is to build a classification model that estimates an applicant's probability of admission based the scores from those two exams."
   ]
  },
  {
   "cell_type": "markdown",
   "metadata": {},
   "source": [
    "**Import third-party libraries and modules**"
   ]
  },
  {
   "cell_type": "code",
   "execution_count": 11,
   "metadata": {},
   "outputs": [],
   "source": [
    "import numpy as np\n",
    "import matplotlib.pyplot as plt\n",
    "import scipy.optimize as opt\n",
    "\n",
    "from gradient import gradient\n",
    "from plotData import plotData\n",
    "from plotDecisionBoundary import plotDecisionBoundary\n",
    "from sigmoid import sigmoid\n",
    "from predict import predict\n",
    "from costFunction import costFunction\n",
    "from mapFeature import mapFeature"
   ]
  },
  {
   "cell_type": "markdown",
   "metadata": {},
   "source": [
    "First, we have to get data from **ex2data1.txt** file using `numpy.loadtxt()` function in numpy library."
   ]
  },
  {
   "cell_type": "code",
   "execution_count": 2,
   "metadata": {},
   "outputs": [],
   "source": [
    "# Load data\n",
    "# The first two columns contains the exam scores and the third column contains the labels\n",
    "data = np.loadtxt('ex2data1.txt', delimiter=',')\n",
    "X = data[:, :-1]\n",
    "y = data[:, -1]\n",
    "\n",
    "m = len(y)\n",
    "\n",
    "y = np.reshape(y, (m, 1)) # convert list to numpy array"
   ]
  },
  {
   "cell_type": "markdown",
   "metadata": {},
   "source": [
    "## 1. Visualizing the data\n",
    "Before starting to implement any learning algorithm, it is always good to visualize the data if possible.\n",
    "\n",
    "The code in **plotData.py** using display a _Figure 1_, where the axes are the two exam scores, and the positive and negative examples are shown with different markers."
   ]
  },
  {
   "cell_type": "code",
   "execution_count": 3,
   "metadata": {
    "scrolled": false
   },
   "outputs": [
    {
     "name": "stdout",
     "output_type": "stream",
     "text": [
      "Plotting data with + indicating (y = 1) examples and o \n",
      "indicating (y = 0) examples.\n",
      "\n"
     ]
    },
    {
     "data": {
      "text/plain": [
       "Text(0.5, 1.0, 'Figure1: Scatter plot of training data')"
      ]
     },
     "execution_count": 3,
     "metadata": {},
     "output_type": "execute_result"
    },
    {
     "data": {
      "image/png": "[encoded data removed]",
      "text/plain": [
       "<Figure size 432x288 with 1 Axes>"
      ]
     },
     "metadata": {
      "needs_background": "light"
     },
     "output_type": "display_data"
    }
   ],
   "source": [
    "## ======================================== Plotting =========================================\n",
    "# We start the exercises by first plotting the data to understand the\n",
    "# problem we are working with\n",
    "print('Plotting data with + indicating (y = 1) examples and o ')\n",
    "print('indicating (y = 0) examples.\\n')\n",
    "\n",
    "plotData(X, y)\n",
    "\n",
    "# Put some lables and legend\n",
    "plt.xlabel('Exam 1 score')\n",
    "plt.ylabel('Exam 2 score')\n",
    "plt.legend(['Not admitted', 'Admitted'])\n",
    "plt.title('Figure1: Scatter plot of training data')"
   ]
  },
  {
   "cell_type": "markdown",
   "metadata": {},
   "source": [
    "## 2. Implementation\n",
    "### 2.1 sigmoid function\n",
    "Before we start with the actual cost function, recall that the logistic regression hypothesis is defined as:\n",
    "\n",
    "$$\n",
    "h_{\\theta}(x) = g(\\theta^{T}x)\n",
    "$$\n",
    "\n",
    "where function g is the sigmoid function. The sigmoid function is defined as:\n",
    "\n",
    "$$\n",
    "g(z) = \\frac{1}{1 + e^{-z}}\n",
    "$$\n",
    "\n",
    "This function in **sigmoid.py** can be called by the rest of our program. For large positive values of x, the sigmoid should be close to 1, while for large negative values, the sigmoid should be close to 0. Evaluting sigmoid(0) should give us exactly 0.5. **For a matrix, our function should perform the sigmoid function on every element.**"
   ]
  },
  {
   "cell_type": "markdown",
   "metadata": {},
   "source": [
    "### 2.2 Cost function and gradient\n",
    "Recall that the cost function in logistic regression is\n",
    "\n",
    "$$\n",
    "J(\\theta) = \\frac{1}{m}\\sum_{i=1}^{m}[-y^{(i)}\\log(h_{\\theta}(x^{(i)})) - (1-y^{(i)})\\log(1-h_{\\theta}(x^{(i)}))]\n",
    "$$\n",
    "\n",
    "and the gradient of the cost is a vector of the same length as $\\theta$ where the $j^{th}$ element \n",
    "(for $j = 0,1,...,n$) is defined as follows:\n",
    "\n",
    "$$\n",
    "\\frac{\\partial J(\\theta)}{\\partial \\theta_{j}} = \\frac{1}{m}\\sum_{i=1}^{m}\\big(h_{\\theta}(x^{(i)}) - y^{(i)}\\big)x_{j}^{(i)}\n",
    "$$\n",
    "\n",
    "Note that while gradient looks identical to the linear regression gradient, the formula is actually different because linear and logistic regression have different definitions of $h_{\\theta}(x)$."
   ]
  },
  {
   "cell_type": "markdown",
   "metadata": {},
   "source": [
    "Below, we call our *costFunction* using the initial parameters of $\\theta$. we should see that the cost is about 0.693."
   ]
  },
  {
   "cell_type": "code",
   "execution_count": 4,
   "metadata": {},
   "outputs": [
    {
     "name": "stdout",
     "output_type": "stream",
     "text": [
      "Cost at initial theta (zeros): 0.693147\n",
      "\n",
      "Exptected cost (approx): 0.693\n",
      "\n",
      "Gradient at initial theta (zeros): \n",
      "\n",
      "[[ -0.1       ]\n",
      " [-12.00921659]\n",
      " [-11.26284221]]\n",
      "Expected gradients (approx):\n",
      " -0.1000\n",
      " -12.0092\n",
      " -11.2628\n",
      "\n",
      "\n",
      "Cost at test theta: 0.218330\n",
      "\n",
      "Exptected cost (approx): 0.218\n",
      "\n",
      "Gradient at test theta:\n",
      "\n",
      "[[0.04290299]\n",
      " [2.56623412]\n",
      " [2.64679737]]\n",
      "Expected gradients (approx):\n",
      " 0.043\n",
      " 2.566\n",
      " 2.647\n",
      "\n"
     ]
    }
   ],
   "source": [
    "## ================================= Part 2: Compute cost and Gradient ===========================\n",
    "# In this part of the exercise, you will implement the cost and gradient for logistic regression.\n",
    "\n",
    "# Setup the data matrix approriately, and add ones for the intercept term\n",
    "[m, n] = X.shape\n",
    "\n",
    "# Add intercept\n",
    "X = np.hstack((np.ones((m, 1)), X))\n",
    "\n",
    "# Init fitting params\n",
    "init_theta = np.zeros((n+1, 1))\n",
    "\n",
    "# Compute and display initial cost and gradient\n",
    "cost = costFunction(init_theta, X, y)\n",
    "grad = gradient(init_theta, X, y, 0)\n",
    "\n",
    "print('Cost at initial theta (zeros): %f\\n' % (cost))\n",
    "print('Exptected cost (approx): 0.693\\n')\n",
    "print('Gradient at initial theta (zeros): \\n')\n",
    "print(grad)\n",
    "print('Expected gradients (approx):\\n -0.1000\\n -12.0092\\n -11.2628\\n')\n",
    "\n",
    "# Compute and display cost and gradient with non-zero theta\n",
    "test_theta = np.array([[-24], [0.2], [0.2]])\n",
    "cost = costFunction(test_theta, X, y)\n",
    "grad = gradient(test_theta, X, y, 0)\n",
    "\n",
    "print('\\nCost at test theta: %f\\n' % (cost))\n",
    "print('Exptected cost (approx): 0.218\\n')\n",
    "print('Gradient at test theta:\\n')\n",
    "print(grad)\n",
    "print('Expected gradients (approx):\\n 0.043\\n 2.566\\n 2.647\\n')"
   ]
  },
  {
   "cell_type": "markdown",
   "metadata": {},
   "source": [
    "### 2.3  Learning parameters using *minimze* function (Scipy)\n",
    "In the previous assigment, we found the optiaml parameters of a linear regression model by implementing gradient descent. We wrote a cost function and calculated its gradient, then took the gradient descent step accordingly. This time, instead of taking gradient descent steps, we will use an *minimize* function of **Scipy** library (a numercial library for python).\n",
    "\n",
    "You can reference it at: https://docs.scipy.org/doc/scipy/reference/generated/scipy.optimize.minimize.html\n",
    "\n",
    "Here, we use **truncated Newton** algorithm to optimize our parameters. (https://docs.scipy.org/doc/scipy/reference/optimize.minimize-tnc.html#optimize-minimize-tnc)"
   ]
  },
  {
   "cell_type": "code",
   "execution_count": 5,
   "metadata": {},
   "outputs": [
    {
     "name": "stderr",
     "output_type": "stream",
     "text": [
      "/home/hos-dsoft/Documents/TRAINING-COURSE/ml-training/Coursera-Machine-Learning/Python-Code/ex2/costFunction.py:20: RuntimeWarning: divide by zero encountered in log\n",
      "  J = (1 / m) * ( (-1)*y.T.dot(np.log(h)) - (1-y).T.dot(np.log(1-h)) )\n"
     ]
    }
   ],
   "source": [
    "## ================================ Part 3: Optimizing ======================================\n",
    "# Find Optimal theta using Scipy library\n",
    "# init_theta = np.zeros((n+1))\n",
    "\n",
    "result = opt.minimize(costFunction, init_theta, args=(X,y), method='TNC', jac=False, options={'maxiter':400})"
   ]
  },
  {
   "cell_type": "markdown",
   "metadata": {},
   "source": [
    "The opimization result represented as a `OptimizeResult` object (*result*).\n",
    "\n",
    "The important attribute are: `x` the solution array. Below is our optimal result:"
   ]
  },
  {
   "cell_type": "code",
   "execution_count": 6,
   "metadata": {},
   "outputs": [
    {
     "name": "stdout",
     "output_type": "stream",
     "text": [
      "Optimal Value of theta:\n",
      "\n",
      "[[-25.14985698]\n",
      " [  0.20600616]\n",
      " [  0.20149558]]\n"
     ]
    }
   ],
   "source": [
    "theta = result.x.reshape((n+1, 1))\n",
    "print('Optimal Value of theta:\\n')\n",
    "print(theta)"
   ]
  },
  {
   "cell_type": "code",
   "execution_count": 7,
   "metadata": {},
   "outputs": [
    {
     "name": "stdout",
     "output_type": "stream",
     "text": [
      "Cost at theta by minimize: 0.203498\n",
      "\n",
      "Expected cost (approx): 0.203\n",
      "\n",
      "theta:\n",
      "\n",
      "[[-25.14985698]\n",
      " [  0.20600616]\n",
      " [  0.20149558]]\n",
      "Expected theta (approx):\n",
      "\n",
      "-25.161\n",
      " 0.206\n",
      " 0.201\n",
      "\n"
     ]
    }
   ],
   "source": [
    "cost = costFunction(theta, X, y)\n",
    "\n",
    "# Print theta to screen\n",
    "print('Cost at theta by minimize: %f\\n' % (cost))\n",
    "print('Expected cost (approx): 0.203\\n\\ntheta:\\n')\n",
    "print(theta)\n",
    "print('Expected theta (approx):\\n')\n",
    "print('-25.161\\n 0.206\\n 0.201\\n')"
   ]
  },
  {
   "cell_type": "markdown",
   "metadata": {},
   "source": [
    "This final $\\theta$ value will then be used to plot the decision boundary on the training data, resulting in a figure similar to Figure 2.\n",
    "\n",
    "**plotDecisionBoundary** function will help us plot this Figure below."
   ]
  },
  {
   "cell_type": "code",
   "execution_count": 8,
   "metadata": {},
   "outputs": [
    {
     "data": {
      "text/plain": [
       "Text(0.5, 1.0, 'Figure2: Training data with decision boundary')"
      ]
     },
     "execution_count": 8,
     "metadata": {},
     "output_type": "execute_result"
    },
    {
     "data": {
      "image/png": "[encoded data removed]",
      "text/plain": [
       "<Figure size 432x288 with 1 Axes>"
      ]
     },
     "metadata": {
      "needs_background": "light"
     },
     "output_type": "display_data"
    }
   ],
   "source": [
    "# Plot boundary\n",
    "plotDecisionBoundary(theta, X, y)\n",
    "# Legend, specific for the exercise\n",
    "plt.legend(['Not admitted', 'Admitted', 'Decision Boundary'])\n",
    "plt.axis([30, 100, 30, 100])\n",
    "plt.title('Figure2: Training data with decision boundary')"
   ]
  },
  {
   "cell_type": "markdown",
   "metadata": {},
   "source": [
    "### 2.4 Evaluating logistic regression\n",
    "After learning the parameters, we can use the model to predict whether a particular student will be admitted.\n",
    "For a student with an Exam 1 score of 45 and Exam 2 score of 85, we should expect to see an admission probability of 0.776"
   ]
  },
  {
   "cell_type": "code",
   "execution_count": 9,
   "metadata": {},
   "outputs": [
    {
     "name": "stdout",
     "output_type": "stream",
     "text": [
      "For a student with scores 45 and 85, we predict an admission \n",
      "probability of 0.776874\n",
      "\n",
      "Expected value: 0.775 +/- 0.002\n",
      "\n",
      "\n"
     ]
    }
   ],
   "source": [
    "## =================================== Part 4: Predict and Accuracies =============================\n",
    "# After learning the parameters, you will like to use it predict the outcomes\n",
    "# on unseen data. In this part, you will use the logistic regression model\n",
    "# to predict the probability that a student with score 45 on exam 1 and\n",
    "# score 85 on exam 2 will be admitted.\n",
    "#\n",
    "# Furthermore, you will compute training and test set accuracies of\n",
    "# our model.\n",
    "#\n",
    "# Predict probability for a student with score 45 on exam 1\n",
    "# and score 85 on exam 2\n",
    "prob = sigmoid(np.array([[1], [45], [85]]).T.dot(theta))\n",
    "print('For a student with scores 45 and 85, we predict an admission ')\n",
    "print('probability of %f\\n' % (prob))\n",
    "print('Expected value: 0.775 +/- 0.002\\n\\n')"
   ]
  },
  {
   "cell_type": "markdown",
   "metadata": {},
   "source": [
    "Another way to evaluate the quality of the parameters we have found is to see how well the learned model predicts on our training set."
   ]
  },
  {
   "cell_type": "code",
   "execution_count": 10,
   "metadata": {},
   "outputs": [
    {
     "name": "stdout",
     "output_type": "stream",
     "text": [
      "Train accuracy: 89.000000\n",
      "\n",
      "Exptect accuracy (approx): 89.0\n",
      "\n"
     ]
    }
   ],
   "source": [
    "# Compute accuracy on our training set\n",
    "p = predict(theta, X)\n",
    "\n",
    "print('Train accuracy: %f\\n' % (np.mean(np.double(p == y)) * 100))\n",
    "print('Exptect accuracy (approx): 89.0\\n')"
   ]
  }
 ],
 "metadata": {
  "kernelspec": {
   "display_name": "Python 3",
   "language": "python",
   "name": "python3"
  },
  "language_info": {
   "codemirror_mode": {
    "name": "ipython",
    "version": 3
   },
   "file_extension": ".py",
   "mimetype": "text/x-python",
   "name": "python",
   "nbconvert_exporter": "python",
   "pygments_lexer": "ipython3",
   "version": "3.7.1"
  }
 },
 "nbformat": 4,
 "nbformat_minor": 2
}
