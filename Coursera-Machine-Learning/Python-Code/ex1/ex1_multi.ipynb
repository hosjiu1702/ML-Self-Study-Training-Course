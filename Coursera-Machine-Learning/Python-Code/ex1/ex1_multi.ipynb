{
 "cells": [
  {
   "cell_type": "markdown",
   "metadata": {},
   "source": [
    "## Linear regression with multiple variables"
   ]
  },
  {
   "cell_type": "markdown",
   "metadata": {},
   "source": [
    "**Import third-party libraries and modules**"
   ]
  },
  {
   "cell_type": "code",
   "execution_count": 1,
   "metadata": {},
   "outputs": [],
   "source": [
    "import numpy as np\n",
    "import matplotlib.pyplot as plt\n",
    "\n",
    "from computeCostMulti import computeCostMulti\n",
    "from featureNormalize import featureNormalize\n",
    "from gradientDescentMulti import gradientDescentMulti\n",
    "from normalEqn import normalEqn"
   ]
  },
  {
   "cell_type": "markdown",
   "metadata": {},
   "source": [
    "In this part, we will implement linear regression with multiple variables to predict the prices of houses. Suppose you are selling your house and you want to know what a good market price would be. One way to this is to first collect information on recent houses sold and make a model of housing prices.\n",
    "\n",
    "The file `ex1data2.txt` contains a training set of housing prices in Portland, Oregon. This column is the size if the house (in square feet), the second column is the number of bedrooms, and third column is the price of the house."
   ]
  },
  {
   "cell_type": "code",
   "execution_count": 2,
   "metadata": {
    "scrolled": true
   },
   "outputs": [
    {
     "name": "stdout",
     "output_type": "stream",
     "text": [
      "Loading data ...\n",
      "\n",
      "[[2.10400e+03 3.00000e+00 3.99900e+05]\n",
      " [1.60000e+03 3.00000e+00 3.29900e+05]\n",
      " [2.40000e+03 3.00000e+00 3.69000e+05]\n",
      " [1.41600e+03 2.00000e+00 2.32000e+05]\n",
      " [3.00000e+03 4.00000e+00 5.39900e+05]\n",
      " [1.98500e+03 4.00000e+00 2.99900e+05]\n",
      " [1.53400e+03 3.00000e+00 3.14900e+05]\n",
      " [1.42700e+03 3.00000e+00 1.98999e+05]\n",
      " [1.38000e+03 3.00000e+00 2.12000e+05]\n",
      " [1.49400e+03 3.00000e+00 2.42500e+05]\n",
      " [1.94000e+03 4.00000e+00 2.39999e+05]\n",
      " [2.00000e+03 3.00000e+00 3.47000e+05]\n",
      " [1.89000e+03 3.00000e+00 3.29999e+05]\n",
      " [4.47800e+03 5.00000e+00 6.99900e+05]\n",
      " [1.26800e+03 3.00000e+00 2.59900e+05]\n",
      " [2.30000e+03 4.00000e+00 4.49900e+05]\n",
      " [1.32000e+03 2.00000e+00 2.99900e+05]\n",
      " [1.23600e+03 3.00000e+00 1.99900e+05]\n",
      " [2.60900e+03 4.00000e+00 4.99998e+05]\n",
      " [3.03100e+03 4.00000e+00 5.99000e+05]\n",
      " [1.76700e+03 3.00000e+00 2.52900e+05]\n",
      " [1.88800e+03 2.00000e+00 2.55000e+05]\n",
      " [1.60400e+03 3.00000e+00 2.42900e+05]\n",
      " [1.96200e+03 4.00000e+00 2.59900e+05]\n",
      " [3.89000e+03 3.00000e+00 5.73900e+05]\n",
      " [1.10000e+03 3.00000e+00 2.49900e+05]\n",
      " [1.45800e+03 3.00000e+00 4.64500e+05]\n",
      " [2.52600e+03 3.00000e+00 4.69000e+05]\n",
      " [2.20000e+03 3.00000e+00 4.75000e+05]\n",
      " [2.63700e+03 3.00000e+00 2.99900e+05]\n",
      " [1.83900e+03 2.00000e+00 3.49900e+05]\n",
      " [1.00000e+03 1.00000e+00 1.69900e+05]\n",
      " [2.04000e+03 4.00000e+00 3.14900e+05]\n",
      " [3.13700e+03 3.00000e+00 5.79900e+05]\n",
      " [1.81100e+03 4.00000e+00 2.85900e+05]\n",
      " [1.43700e+03 3.00000e+00 2.49900e+05]\n",
      " [1.23900e+03 3.00000e+00 2.29900e+05]\n",
      " [2.13200e+03 4.00000e+00 3.45000e+05]\n",
      " [4.21500e+03 4.00000e+00 5.49000e+05]\n",
      " [2.16200e+03 4.00000e+00 2.87000e+05]\n",
      " [1.66400e+03 2.00000e+00 3.68500e+05]\n",
      " [2.23800e+03 3.00000e+00 3.29900e+05]\n",
      " [2.56700e+03 4.00000e+00 3.14000e+05]\n",
      " [1.20000e+03 3.00000e+00 2.99000e+05]\n",
      " [8.52000e+02 2.00000e+00 1.79900e+05]\n",
      " [1.85200e+03 4.00000e+00 2.99900e+05]\n",
      " [1.20300e+03 3.00000e+00 2.39500e+05]]\n"
     ]
    }
   ],
   "source": [
    "## ================================== Part 1: Feature Normalization ===================================\n",
    "print('Loading data ...\\n')\n",
    "\n",
    "# Load data\n",
    "data = np.loadtxt('ex1data2.txt', delimiter=',')\n",
    "print(data)"
   ]
  },
  {
   "cell_type": "markdown",
   "metadata": {},
   "source": [
    "Using *numpy slicing* to get training examples and labels"
   ]
  },
  {
   "cell_type": "code",
   "execution_count": 3,
   "metadata": {},
   "outputs": [],
   "source": [
    "data_ = data.copy()\n",
    "# Get training examples and labels\n",
    "X = data[:, :-1].copy()\n",
    "y = data[:, -1:].copy()\n",
    "\n",
    "# length of training examples\n",
    "m = len(y)\n",
    "# number of features\n",
    "n = len(X[0, :])"
   ]
  },
  {
   "cell_type": "markdown",
   "metadata": {},
   "source": [
    "Print out some data points"
   ]
  },
  {
   "cell_type": "code",
   "execution_count": 4,
   "metadata": {
    "scrolled": true
   },
   "outputs": [
    {
     "name": "stdout",
     "output_type": "stream",
     "text": [
      "First 10 examples from the dataset: \n",
      "\n",
      "[2104 3], y = 399900\n",
      "\n",
      "[1600 3], y = 329900\n",
      "\n",
      "[2400 3], y = 369000\n",
      "\n",
      "[1416 2], y = 232000\n",
      "\n",
      "[3000 4], y = 539900\n",
      "\n",
      "[1985 4], y = 299900\n",
      "\n",
      "[1534 3], y = 314900\n",
      "\n",
      "[1427 3], y = 198999\n",
      "\n",
      "[1380 3], y = 212000\n",
      "\n",
      "[1494 3], y = 242500\n",
      "\n"
     ]
    }
   ],
   "source": [
    "# Print out some data points\n",
    "print('First 10 examples from the dataset: \\n')\n",
    "for i in range(10):\n",
    "    print('[%.0f %.0f], y = %.0f\\n' % (X[i, 0], X[i, 1], y[i]))"
   ]
  },
  {
   "cell_type": "markdown",
   "metadata": {},
   "source": [
    "### 1. Feature Normalization\n",
    "The `ex1_multi.py` script will start by loading and displaying some values from this dataset. By looking at the values, note that house sizes are about 1000 times the number of bedrooms. When features differ by orders of magnitude, first performing feature scaling can make gradient descent converge much more quickly.\n",
    "\n",
    "The code in **featureNormalize.py** to:\n",
    "\n",
    "- Subtract the mean value of each feature from the dataset.\n",
    "- After subtracting the mean, additionally scale the feature values by their respective \"standard deviations\".\n",
    "\n",
    "**Implementation note**: When normalizing the features, it is important to store the values used for normalization - the *mean* value and the *standard deviation* used for the computations. After learning the parameters from the model, we often want to predict the prices of houses we have not seen before. Given a new x value (living room area and number of bedrooms), we must first normalize x using the mean and standard deviation that we had previously computed from the training set."
   ]
  },
  {
   "cell_type": "code",
   "execution_count": 5,
   "metadata": {},
   "outputs": [
    {
     "name": "stdout",
     "output_type": "stream",
     "text": [
      "Normalizing Features ...\n",
      "\n"
     ]
    }
   ],
   "source": [
    "# Scale features and set them to zero mean\n",
    "print('Normalizing Features ...\\n')\n",
    "\n",
    "[X, mu, sigma] = featureNormalize(X)"
   ]
  },
  {
   "cell_type": "code",
   "execution_count": 6,
   "metadata": {},
   "outputs": [],
   "source": [
    "# Add intercept\n",
    "X = np.concatenate((np.ones((m, 1)), X), axis=1)"
   ]
  },
  {
   "cell_type": "markdown",
   "metadata": {},
   "source": [
    "### 2. Gradient Descent\n",
    "Previously, you implemented gradient descent on a univariate regression problem. The only difference now is that there is one more feature in the matrix X. The hypothesis function and the batch gradient descent update rule remain unchanged.\n",
    "\n",
    "The code in **computeCostMulti.py** and **gradientDescentMulti.py** to implement the cost function and gradient descent for linear regression with multi variables.\n",
    "\n",
    "___\n",
    "\n",
    "![](fig/NormalEquation.png)\n",
    "\n",
    "#### Selecting learning rates\n",
    "In this part of the exercise, you will get to try out different learning rates for the dataset and find learning rate that converges quickly. You can change the learning rate by modifying `ex1_multi.py` and changing the part of the code that sets learning rate.\n",
    "\n",
    "The next phase in `ex1_multi.py`  will call our *gradientDescent* function and run gradient descent for about 50 iterations at the chosen learning rate. The function should also return the history of $J(\\theta)$ values in a vector J. After the last iteration, the `ex1_multi.py` scripts plots the J values against the number of the iterations.\n",
    "\n",
    "If you picked a learning rate wihin a good range, your plot look similar Figure below. If your graph looks very different, especically if your value of $J(\\theta)$ increases or even blows up, adjust your learning rate and try again. We recommend trying values of the learning rate on log-scale (), at multiplicative steps of about 3 times the previous value (i.e., 0.3, 0.1, 0.03, 0.01 and so on). You may also want to| adjust the number of iterations your are running if that will help you see the overall trend in the curve."
   ]
  },
  {
   "cell_type": "code",
   "execution_count": 7,
   "metadata": {},
   "outputs": [
    {
     "name": "stdout",
     "output_type": "stream",
     "text": [
      "Running gradient descent ...\n",
      "\n"
     ]
    },
    {
     "data": {
      "text/plain": [
       "<matplotlib.legend.Legend at 0x7f009459d1d0>"
      ]
     },
     "execution_count": 7,
     "metadata": {},
     "output_type": "execute_result"
    },
    {
     "data": {
      "image/png": "[encoded data removed]",
      "text/plain": [
       "<Figure size 432x288 with 1 Axes>"
      ]
     },
     "metadata": {
      "needs_background": "light"
     },
     "output_type": "display_data"
    }
   ],
   "source": [
    "## ================================ Part 2: Gradient Descent ===================================\n",
    "print('Running gradient descent ...\\n')\n",
    "\n",
    "alpha = 0.1\n",
    "num_iters = 400\n",
    "\n",
    "# Init theta and run gradient descent\n",
    "theta = np.zeros((n + 1, 1))\n",
    "[theta, J_history] = gradientDescentMulti(X, y, theta, alpha, num_iters)\n",
    "\n",
    "# Plot the convergence graph\n",
    "conv_fig = plt.figure()\n",
    "x = np.arange(len(J_history))\n",
    "plt.plot(x, J_history, 'b', label='gradient')\n",
    "plt.xlabel('Number of iterations')\n",
    "plt.ylabel('Cost')\n",
    "plt.title('Convergence of grad cost')\n",
    "plt.legend()"
   ]
  },
  {
   "cell_type": "markdown",
   "metadata": {},
   "source": [
    "Notice the changes in the convergence curves as the learning rate changes. With a small learning rate, you should find that gradient descent takes a very long time to converge to the optimal value. Conversely, with a large learning rate, gradient descent might not converge or might even diverge!"
   ]
  },
  {
   "cell_type": "code",
   "execution_count": 8,
   "metadata": {},
   "outputs": [
    {
     "name": "stdout",
     "output_type": "stream",
     "text": [
      "Theta computed from gradient descent: \n",
      "\n",
      "Theta: \n",
      "[[340412.65957447]\n",
      " [109447.79558639]\n",
      " [ -6578.3539709 ]]\n"
     ]
    }
   ],
   "source": [
    "# Display of gradient decent's result\n",
    "print('Theta computed from gradient descent: \\n')\n",
    "print('Theta: ')\n",
    "print(theta)"
   ]
  },
  {
   "cell_type": "markdown",
   "metadata": {},
   "source": [
    "Using the best learning rate that you found, run the `ex1_multi.py` script to run gradient descent until convergence to find the final values of $\\theta$. Next, use this value of $\\theta$ to predict the price of a house with 1650 square feet and 3 bedrooms. You will use value later to check your implementation of the normal equations. Don't forget to normalize your features when you make this prediction!"
   ]
  },
  {
   "cell_type": "code",
   "execution_count": 9,
   "metadata": {},
   "outputs": [],
   "source": [
    "# Estimate the price of a 1650 square feets, 3 bed rooms house\n",
    "\n",
    "# raw tested data points\n",
    "X_test = np.array([[1650], [3]])\n",
    "# Normalizing tested data points\n",
    "X_test = (X_test - mu) / sigma\n",
    "\n",
    "# Add intercept\n",
    "X_test = np.concatenate( (np.array([[1]]), X_test) , axis = 0 )"
   ]
  },
  {
   "cell_type": "code",
   "execution_count": 10,
   "metadata": {},
   "outputs": [
    {
     "name": "stdout",
     "output_type": "stream",
     "text": [
      "Predicted price of 1650 sq-ft, 3 br house \n",
      "(using gradient descent): 293081.464529\n",
      "\n"
     ]
    }
   ],
   "source": [
    "# predict\n",
    "price = theta.T.dot(X_test)\n",
    "\n",
    "print('Predicted price of 1650 sq-ft, 3 br house ')\n",
    "print('(using gradient descent): %f\\n' % (price))"
   ]
  },
  {
   "cell_type": "markdown",
   "metadata": {},
   "source": [
    "### 3. Normal Equations\n",
    "In the lecture videos, you learned that the closed-form solution to linear regression is\n",
    "\n",
    "$$\n",
    "\\theta = (X^{T}X)^{-1}X^{T}\\vec{y}^{\\,}\n",
    "$$\n",
    "\n",
    "Using this formula does not require any feature scaling, and you will get a exact solution in one calculation.\n",
    "\n",
    "The code in **normalEqn.py** to use the formula above to calculate $\\theta$. Remember that while you don't need to scale your features, we still need to add a column add a column of 1's to the X matrix to have an intercept term $(\\theta_{0})$. The code in `ex1.py` will add the column of 1's to X for us."
   ]
  },
  {
   "cell_type": "code",
   "execution_count": 11,
   "metadata": {},
   "outputs": [
    {
     "name": "stdout",
     "output_type": "stream",
     "text": [
      "Solving with normal equations ...\n",
      "\n"
     ]
    }
   ],
   "source": [
    "## ======================================= Part 3: Normal Equations ====================================\n",
    "print('Solving with normal equations ...\\n')\n",
    "\n",
    "# Load data\n",
    "X = data[:, :-1].copy()\n",
    "y = data[:, -1]\n",
    "\n",
    "# Add intercept\n",
    "X = np.concatenate( (np.ones((m, 1)) , X) , axis=1 )"
   ]
  },
  {
   "cell_type": "code",
   "execution_count": 12,
   "metadata": {},
   "outputs": [
    {
     "name": "stdout",
     "output_type": "stream",
     "text": [
      "Theta computed from the normal equations:\n",
      "\n",
      "[89597.9095428    139.21067402 -8738.01911233]\n",
      "\n",
      "\n"
     ]
    }
   ],
   "source": [
    "# Calculate the params from the normal equations\n",
    "theta = normalEqn(X, y)\n",
    "\n",
    "# Display normal equation's result\n",
    "print('Theta computed from the normal equations:\\n')\n",
    "print(theta)\n",
    "print('\\n')"
   ]
  },
  {
   "cell_type": "markdown",
   "metadata": {},
   "source": [
    "Now, once we have found $\\theta$ using this method, use it to make price prediction for a 1650 square feet house with 3 bedrooms. We should find that gives the same predicted price as the value you obtained using the model fit with gradient descent."
   ]
  },
  {
   "cell_type": "code",
   "execution_count": 13,
   "metadata": {},
   "outputs": [
    {
     "name": "stdout",
     "output_type": "stream",
     "text": [
      "Predicted price of 1650 sq-ft, 3 br house \n",
      "(using Normal Equations): 293081.464335\n",
      "\n"
     ]
    }
   ],
   "source": [
    "# Estimate the price of a 1650 sq-ft, 3 br house\n",
    "X_test = np.array([[1650], [3]])\n",
    "X_test = np.vstack((1, X_test))\n",
    "\n",
    "# predict\n",
    "price = theta.T.dot(X_test)\n",
    "\n",
    "print('Predicted price of 1650 sq-ft, 3 br house ')\n",
    "print('(using Normal Equations): %f\\n' % (price))"
   ]
  },
  {
   "cell_type": "code",
   "execution_count": null,
   "metadata": {},
   "outputs": [],
   "source": []
  }
 ],
 "metadata": {
  "kernelspec": {
   "display_name": "Python 3",
   "language": "python",
   "name": "python3"
  },
  "language_info": {
   "codemirror_mode": {
    "name": "ipython",
    "version": 3
   },
   "file_extension": ".py",
   "mimetype": "text/x-python",
   "name": "python",
   "nbconvert_exporter": "python",
   "pygments_lexer": "ipython3",
   "version": "3.7.1"
  }
 },
 "nbformat": 4,
 "nbformat_minor": 2
}
